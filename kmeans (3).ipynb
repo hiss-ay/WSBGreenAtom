{
 "cells": [
  {
   "cell_type": "markdown",
   "metadata": {},
   "source": [
    "# Импорт нужных библиотек "
   ]
  },
  {
   "cell_type": "code",
   "execution_count": 101,
   "metadata": {},
   "outputs": [],
   "source": [
    "import re\n",
    "import numpy as np\n",
    "import pandas as pd\n",
    "import matplotlib.pyplot as plt\n",
    "from sklearn import datasets\n",
    "from sklearn.feature_extraction.text import TfidfVectorizer\n",
    "from sklearn.cluster import KMeans"
   ]
  },
  {
   "cell_type": "markdown",
   "metadata": {},
   "source": [
    "# Загрузка данных"
   ]
  },
  {
   "cell_type": "code",
   "execution_count": 102,
   "metadata": {},
   "outputs": [
    {
     "data": {
      "text/plain": [
       "array([\"It's not about the money, it's about sending a message. 🚀💎🙌\",\n",
       "       'Math Professor Scott Steiner says the numbers spell DISASTER for Gamestop shorts',\n",
       "       'Exit the system', ...,\n",
       "       'Unpinned Daily Discussion Thread for February 19, 2021',\n",
       "       'Daily Discussion Thread for February 19, 2021',\n",
       "       'Kenny G Uncovers The Voice Next Episode!'], dtype=object)"
      ]
     },
     "execution_count": 102,
     "metadata": {},
     "output_type": "execute_result"
    }
   ],
   "source": [
    "data = pd.read_csv('reddit_wsb.csv').iloc[:, 0].values\n",
    "data"
   ]
  },
  {
   "cell_type": "markdown",
   "metadata": {},
   "source": [
    "# Обработка данных"
   ]
  },
  {
   "cell_type": "markdown",
   "metadata": {},
   "source": [
    "## Токенизатор"
   ]
  },
  {
   "cell_type": "markdown",
   "metadata": {},
   "source": [
    "Для обработки текста был написан токенизатор, он заменяет некоторые не имеющие для нас смысла символы в тексте на пробелы, также делает ещё пару упрощений и, соответсвенно, делает саму токенизацию"
   ]
  },
  {
   "cell_type": "code",
   "execution_count": 36,
   "metadata": {},
   "outputs": [],
   "source": [
    "_patterns = [r'\\\"',\n",
    "             r'<br /><br />',\n",
    "             r'\\;',\n",
    "             r'\\:',\n",
    "             r'\\s+',\n",
    "             r'\\(',\n",
    "             r'\\)']\n",
    "\n",
    "_replacements = ['',\n",
    "                 ' ',\n",
    "                 ' ',\n",
    "                 ' ',\n",
    "                 ' ',\n",
    "                '',\n",
    "                '']\n",
    "_patterns_dict = list((re.compile(p), r) for p, r in zip(_patterns, _replacements))\n",
    "\n",
    "def normalize(line):\n",
    "    line = line.lower()\n",
    "    for pattern_re, replaced_str in _patterns_dict:\n",
    "        line = pattern_re.sub(replaced_str, line)\n",
    "    return line\n",
    "\n",
    "TOKEN_RE = re.compile(r'[a-z]+|\\d+[.,]\\d+|\\d+')\n",
    "\n",
    "def tokenize(txt, min_token_size = 3):\n",
    "    txt = normalize(txt)\n",
    "    all_tokens = TOKEN_RE.findall(txt)\n",
    "    return [token for token in all_tokens if len(token) >= min_token_size]"
   ]
  },
  {
   "cell_type": "code",
   "execution_count": 37,
   "metadata": {},
   "outputs": [],
   "source": [
    "from string import punctuation\n",
    "\n",
    "def preprocess(text):\n",
    "    text = [normalize(texti) for texti in text]\n",
    "    text = \" \".join(text)\n",
    "    all_words = tokenize(text, min_token_size = 3)\n",
    "    \n",
    "    return all_words\n",
    "\n",
    "all_words = preprocess(data)"
   ]
  },
  {
   "cell_type": "markdown",
   "metadata": {},
   "source": [
    "## Построение словоря"
   ]
  },
  {
   "cell_type": "code",
   "execution_count": 54,
   "metadata": {},
   "outputs": [],
   "source": [
    "vc = TfidfVectorizer()\n",
    "vc.fit(data)\n",
    "X_std = vc.transform(all_words)"
   ]
  },
  {
   "cell_type": "markdown",
   "metadata": {},
   "source": [
    "# Запуск алгоритма k-means"
   ]
  },
  {
   "cell_type": "code",
   "execution_count": 39,
   "metadata": {},
   "outputs": [
    {
     "name": "stdout",
     "output_type": "stream",
     "text": [
      "Score for number of cluster(s) 2: -277214.5856848484\n",
      "----------------------------------------------------------------------------------------------------\n",
      "Score for number of cluster(s) 3: -270412.57790578547\n",
      "----------------------------------------------------------------------------------------------------\n",
      "Score for number of cluster(s) 4: -269079.4674487308\n",
      "----------------------------------------------------------------------------------------------------\n",
      "Score for number of cluster(s) 5: -265414.3839109536\n",
      "----------------------------------------------------------------------------------------------------\n",
      "Score for number of cluster(s) 6: -264044.9436451818\n",
      "----------------------------------------------------------------------------------------------------\n",
      "Score for number of cluster(s) 7: -261617.6984816737\n",
      "----------------------------------------------------------------------------------------------------\n",
      "Score for number of cluster(s) 8: -254438.86927751426\n",
      "----------------------------------------------------------------------------------------------------\n",
      "Score for number of cluster(s) 9: -247912.65791207014\n",
      "----------------------------------------------------------------------------------------------------\n",
      "Score for number of cluster(s) 10: -247502.56728644337\n",
      "----------------------------------------------------------------------------------------------------\n",
      "Score for number of cluster(s) 11: -245008.98411574087\n",
      "----------------------------------------------------------------------------------------------------\n"
     ]
    }
   ],
   "source": [
    "model_scores= []\n",
    "list_k = list(range(2, 12))\n",
    "\n",
    "for k in list_k:\n",
    "    model = KMeans(n_clusters=k).fit(X_std)\n",
    "    preds = model.predict(X_std)\n",
    "    \n",
    "    print(\"Score for number of cluster(s) {}: {}\".format(k, model.score(X_std)))\n",
    "    model_scores.append(-model.score(X_std))\n",
    "\n",
    "    print(\"-\"*100)"
   ]
  },
  {
   "cell_type": "markdown",
   "metadata": {},
   "source": [
    "# Методы оценки"
   ]
  },
  {
   "cell_type": "markdown",
   "metadata": {},
   "source": [
    "## Метод локтя"
   ]
  },
  {
   "cell_type": "code",
   "execution_count": 43,
   "metadata": {},
   "outputs": [
    {
     "data": {
      "image/png": "[encoded data removed]",
      "text/plain": [
       "<Figure size 504x504 with 1 Axes>"
      ]
     },
     "metadata": {
      "needs_background": "light"
     },
     "output_type": "display_data"
    }
   ],
   "source": [
    "plt.figure(figsize=(7, 7))\n",
    "plt.grid(True)\n",
    "plt.plot(list_k, model_scores, '-o')\n",
    "plt.xlabel('Number of clusters k')\n",
    "plt.ylabel('K-means score');"
   ]
  },
  {
   "cell_type": "markdown",
   "metadata": {},
   "source": [
    "График выше показывает, что k = 3 или k = 9 - неплохой выбор"
   ]
  },
  {
   "cell_type": "markdown",
   "metadata": {},
   "source": [
    "## Анализ силуэта"
   ]
  },
  {
   "cell_type": "code",
   "execution_count": null,
   "metadata": {},
   "outputs": [],
   "source": []
  }
 ],
 "metadata": {
  "kernelspec": {
   "display_name": "Python 3",
   "language": "python",
   "name": "python3"
  },
  "language_info": {
   "codemirror_mode": {
    "name": "ipython",
    "version": 3
   },
   "file_extension": ".py",
   "mimetype": "text/x-python",
   "name": "python",
   "nbconvert_exporter": "python",
   "pygments_lexer": "ipython3",
   "version": "3.7.9"
  }
 },
 "nbformat": 4,
 "nbformat_minor": 4
}
